{
 "cells": [
  {
   "cell_type": "code",
   "execution_count": 1,
   "id": "e7812aae-7da1-4260-8ea6-04748dde80b3",
   "metadata": {},
   "outputs": [
    {
     "ename": "IndentationError",
     "evalue": "unexpected indent (3360716597.py, line 2)",
     "output_type": "error",
     "traceback": [
      "\u001b[0;36m  Cell \u001b[0;32mIn[1], line 2\u001b[0;36m\u001b[0m\n\u001b[0;31m    x_curr = x1\u001b[0m\n\u001b[0m    ^\u001b[0m\n\u001b[0;31mIndentationError\u001b[0m\u001b[0;31m:\u001b[0m unexpected indent\n"
     ]
    }
   ],
   "source": [
    " x_prev = x0\n",
    "    x_curr = x1\n",
    "    iter_count = 0\n",
    "\n",
    "    while abs(f(x_curr)) > tol and iter_count < max_iter:\n",
    "        # Calculate the next approximation using the secant method formula\n",
    "        x_next = x_curr - f(x_curr) * (x_curr - x_prev) / (f(x_curr) - f(x_prev))\n",
    "\n",
    "        # Update variables for the next iteration\n",
    "        x_prev = x_curr\n",
    "        x_curr = x_next\n",
    "        iter_count += 1\n",
    "\n",
    "    return x_curr, iter_count"
   ]
  },
  {
   "cell_type": "code",
   "execution_count": null,
   "id": "b533adc5-e42e-4e8d-913d-be985d58a469",
   "metadata": {},
   "outputs": [],
   "source": []
  }
 ],
 "metadata": {
  "kernelspec": {
   "display_name": "Python 3 (ipykernel)",
   "language": "python",
   "name": "python3"
  },
  "language_info": {
   "codemirror_mode": {
    "name": "ipython",
    "version": 3
   },
   "file_extension": ".py",
   "mimetype": "text/x-python",
   "name": "python",
   "nbconvert_exporter": "python",
   "pygments_lexer": "ipython3",
   "version": "3.10.14"
  }
 },
 "nbformat": 4,
 "nbformat_minor": 5
}
